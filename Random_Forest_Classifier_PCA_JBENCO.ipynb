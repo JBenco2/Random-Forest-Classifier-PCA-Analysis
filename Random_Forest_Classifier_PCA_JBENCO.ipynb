{
 "cells": [
  {
   "cell_type": "markdown",
   "id": "e8c47bac",
   "metadata": {},
   "source": [
    "MSDS 422 Assignment # 3 for James Benco"
   ]
  },
  {
   "cell_type": "markdown",
   "id": "d662908b",
   "metadata": {},
   "source": [
    "1: Importing Data amd Required Libraries"
   ]
  },
  {
   "cell_type": "code",
   "execution_count": 96,
   "id": "4aebb176",
   "metadata": {},
   "outputs": [],
   "source": [
    "from IPython.display import HTML\n",
    "from IPython.core.interactiveshell import InteractiveShell\n",
    "InteractiveShell.ast_node_interactivity = \"all\""
   ]
  },
  {
   "cell_type": "code",
   "execution_count": 97,
   "id": "89d975dc",
   "metadata": {},
   "outputs": [
    {
     "name": "stdout",
     "output_type": "stream",
     "text": [
      "Populating the interactive namespace from numpy and matplotlib\n"
     ]
    }
   ],
   "source": [
    "import os\n",
    "import numpy as np\n",
    "import pandas as pd\n",
    "import math\n",
    "import matplotlib.pyplot as plt\n",
    "import seaborn as sns\n",
    "from sklearn.preprocessing import StandardScaler \n",
    "from sklearn.preprocessing import OneHotEncoder\n",
    "import category_encoders\n",
    "from sklearn.model_selection import GridSearchCV\n",
    "from sklearn.pipeline import Pipeline, make_pipeline\n",
    "from sklearn import metrics\n",
    "from sklearn.linear_model import LogisticRegression\n",
    "from sklearn import datasets\n",
    "from sklearn.model_selection import train_test_split\n",
    "from sklearn import linear_model\n",
    "from sklearn.metrics import classification_report\n",
    "from sklearn import dummy\n",
    "from sklearn.decomposition import PCA\n",
    "from sklearn.ensemble import RandomForestClassifier\n",
    "%pylab inline\n",
    "%matplotlib inline"
   ]
  },
  {
   "cell_type": "markdown",
   "id": "d9504b20",
   "metadata": {},
   "source": [
    "We will first import the data from the Digit Recognizer Dataset"
   ]
  },
  {
   "cell_type": "code",
   "execution_count": 98,
   "id": "af0cd1f0",
   "metadata": {},
   "outputs": [],
   "source": [
    "#Train Data file\n",
    "digitTrainDat = pd.read_csv(\"train.csv\")\n",
    "TrainDat = digitTrainDat.copy()"
   ]
  },
  {
   "cell_type": "code",
   "execution_count": 99,
   "id": "2b6ed6f3",
   "metadata": {},
   "outputs": [],
   "source": [
    "#Test Data File\n",
    "digitTestDat = pd.read_csv(\"test.csv\")\n",
    "TestDat = digitTestDat.copy()"
   ]
  },
  {
   "cell_type": "code",
   "execution_count": 100,
   "id": "24f009e1",
   "metadata": {},
   "outputs": [],
   "source": [
    "#Sample Submission File\n",
    "digitSubFile = pd.read_csv(\"sample_submission.csv\")"
   ]
  },
  {
   "cell_type": "code",
   "execution_count": 101,
   "id": "c086ba96",
   "metadata": {},
   "outputs": [
    {
     "name": "stdout",
     "output_type": "stream",
     "text": [
      "<class 'pandas.core.frame.DataFrame'>\n",
      "RangeIndex: 42000 entries, 0 to 41999\n",
      "Columns: 785 entries, label to pixel783\n",
      "dtypes: int64(785)\n",
      "memory usage: 251.5 MB\n"
     ]
    }
   ],
   "source": [
    "#Checking all the headers and datatypes of the training data\n",
    "TrainDat.info()"
   ]
  },
  {
   "cell_type": "markdown",
   "id": "de843918",
   "metadata": {},
   "source": [
    "All the data seems to be pixels which we will need to visualize to understand"
   ]
  },
  {
   "cell_type": "markdown",
   "id": "2fd902a8",
   "metadata": {},
   "source": [
    "2: Statistical EDA"
   ]
  },
  {
   "cell_type": "code",
   "execution_count": 102,
   "id": "3285c10d",
   "metadata": {},
   "outputs": [
    {
     "data": {
      "text/plain": [
       "<AxesSubplot:xlabel='label', ylabel='count'>"
      ]
     },
     "execution_count": 102,
     "metadata": {},
     "output_type": "execute_result"
    },
    {
     "data": {
      "image/png": "[encoded data removed]",
      "text/plain": [
       "<Figure size 432x288 with 1 Axes>"
      ]
     },
     "metadata": {
      "needs_background": "light"
     },
     "output_type": "display_data"
    }
   ],
   "source": [
    "sns.countplot(data=TrainDat, x='label')"
   ]
  },
  {
   "cell_type": "markdown",
   "id": "83fc3fbe",
   "metadata": {},
   "source": [
    "From this we can see that the dataset is comprised of visual pixelated images of the numbers 0-9.  All about similar distributions of the numbers with none being exactly equal to each other."
   ]
  },
  {
   "cell_type": "code",
   "execution_count": 103,
   "id": "13fc72d2",
   "metadata": {},
   "outputs": [],
   "source": [
    "#first we will need to split into x and y train data\n",
    "xTrain = TrainDat.drop(labels=['label'],axis=1)\n",
    "yTrain = TrainDat['label']"
   ]
  },
  {
   "cell_type": "markdown",
   "id": "b21fae44",
   "metadata": {},
   "source": [
    "We will now check for null values in the dataset"
   ]
  },
  {
   "cell_type": "code",
   "execution_count": 104,
   "id": "daf2948c",
   "metadata": {},
   "outputs": [
    {
     "data": {
      "text/plain": [
       "label       0\n",
       "pixel0      0\n",
       "pixel1      0\n",
       "pixel2      0\n",
       "pixel3      0\n",
       "           ..\n",
       "pixel779    0\n",
       "pixel780    0\n",
       "pixel781    0\n",
       "pixel782    0\n",
       "pixel783    0\n",
       "Length: 785, dtype: int64"
      ]
     },
     "execution_count": 104,
     "metadata": {},
     "output_type": "execute_result"
    }
   ],
   "source": [
    "TrainDat.isnull().sum()"
   ]
  },
  {
   "cell_type": "markdown",
   "id": "ee6b2e57",
   "metadata": {},
   "source": [
    "There seems to be no missing data for this dataset."
   ]
  },
  {
   "cell_type": "markdown",
   "id": "cfb0c7c2",
   "metadata": {},
   "source": [
    "We will now perform PCA analysis on our imagedata"
   ]
  },
  {
   "cell_type": "code",
   "execution_count": 105,
   "id": "a4317582",
   "metadata": {},
   "outputs": [
    {
     "data": {
      "text/plain": [
       "PCA(n_components=2)"
      ]
     },
     "execution_count": 105,
     "metadata": {},
     "output_type": "execute_result"
    },
    {
     "data": {
      "text/plain": [
       "<Figure size 432x360 with 0 Axes>"
      ]
     },
     "execution_count": 105,
     "metadata": {},
     "output_type": "execute_result"
    },
    {
     "data": {
      "text/plain": [
       "<matplotlib.collections.PathCollection at 0x1326181b280>"
      ]
     },
     "execution_count": 105,
     "metadata": {},
     "output_type": "execute_result"
    },
    {
     "data": {
      "text/plain": [
       "<matplotlib.colorbar.Colorbar at 0x13261665e50>"
      ]
     },
     "execution_count": 105,
     "metadata": {},
     "output_type": "execute_result"
    },
    {
     "data": {
      "text/plain": [
       "Text(0.5, 0, 'PC1')"
      ]
     },
     "execution_count": 105,
     "metadata": {},
     "output_type": "execute_result"
    },
    {
     "data": {
      "text/plain": [
       "Text(0, 0.5, 'PC2')"
      ]
     },
     "execution_count": 105,
     "metadata": {},
     "output_type": "execute_result"
    },
    {
     "data": {
      "image/png": "[encoded data removed]",
      "text/plain": [
       "<Figure size 432x360 with 2 Axes>"
      ]
     },
     "metadata": {
      "needs_background": "light"
     },
     "output_type": "display_data"
    }
   ],
   "source": [
    "pca = PCA(n_components =2)\n",
    "pca.fit(TrainDat)\n",
    "transform = pca.transform(TrainDat)\n",
    "\n",
    "figure(figsize(6,5))\n",
    "plt.scatter(transform[:,0],transform[:,1], s=20, c=yTrain, cmap=\"nipy_spectral\", edgecolor=\"None\")\n",
    "plt.colorbar()\n",
    "clim(0,9)\n",
    "\n",
    "xlabel(\"PC1\")\n",
    "ylabel(\"PC2\")"
   ]
  },
  {
   "cell_type": "markdown",
   "id": "67eab174",
   "metadata": {},
   "source": [
    "The PCA above is for 2 components, it is interesting to note the clusters from just 2 components.  We will now increase the amount of components and see what the data shows."
   ]
  },
  {
   "cell_type": "code",
   "execution_count": 106,
   "id": "c4853ad1",
   "metadata": {},
   "outputs": [
    {
     "data": {
      "text/plain": [
       "PCA(n_components=1)"
      ]
     },
     "execution_count": 106,
     "metadata": {},
     "output_type": "execute_result"
    },
    {
     "data": {
      "text/plain": [
       "PCA(n_components=2)"
      ]
     },
     "execution_count": 106,
     "metadata": {},
     "output_type": "execute_result"
    },
    {
     "data": {
      "text/plain": [
       "PCA(n_components=3)"
      ]
     },
     "execution_count": 106,
     "metadata": {},
     "output_type": "execute_result"
    },
    {
     "data": {
      "text/plain": [
       "PCA(n_components=4)"
      ]
     },
     "execution_count": 106,
     "metadata": {},
     "output_type": "execute_result"
    },
    {
     "data": {
      "text/plain": [
       "PCA(n_components=5)"
      ]
     },
     "execution_count": 106,
     "metadata": {},
     "output_type": "execute_result"
    },
    {
     "data": {
      "text/plain": [
       "PCA(n_components=10)"
      ]
     },
     "execution_count": 106,
     "metadata": {},
     "output_type": "execute_result"
    },
    {
     "data": {
      "text/plain": [
       "PCA(n_components=20)"
      ]
     },
     "execution_count": 106,
     "metadata": {},
     "output_type": "execute_result"
    },
    {
     "data": {
      "text/plain": [
       "PCA(n_components=50)"
      ]
     },
     "execution_count": 106,
     "metadata": {},
     "output_type": "execute_result"
    },
    {
     "data": {
      "text/plain": [
       "PCA(n_components=100)"
      ]
     },
     "execution_count": 106,
     "metadata": {},
     "output_type": "execute_result"
    },
    {
     "data": {
      "text/plain": [
       "PCA(n_components=200)"
      ]
     },
     "execution_count": 106,
     "metadata": {},
     "output_type": "execute_result"
    },
    {
     "data": {
      "text/plain": [
       "PCA(n_components=500)"
      ]
     },
     "execution_count": 106,
     "metadata": {},
     "output_type": "execute_result"
    },
    {
     "data": {
      "text/plain": [
       "PCA(n_components=784)"
      ]
     },
     "execution_count": 106,
     "metadata": {},
     "output_type": "execute_result"
    }
   ],
   "source": [
    "#First we will create an array for the n_components to follow from a min of 1 to a max of the dataset 784\n",
    "n_components_array = ([1,2,3,4,5,10,20,50,100,200,500,784])\n",
    "nCompLen = np.zeros(len(n_components_array))\n",
    "i=0;\n",
    "#now we will loop to perform PCA analysis for each length of n_components and then below plot the variance to determine the best value\n",
    "for n_components in n_components_array:\n",
    "    pca=PCA(n_components=n_components)\n",
    "    pca.fit(xTrain)\n",
    "    nCompLen[i]=sum(pca.explained_variance_ratio_)\n",
    "    i+=1"
   ]
  },
  {
   "cell_type": "code",
   "execution_count": 107,
   "id": "dd4320db",
   "metadata": {},
   "outputs": [
    {
     "data": {
      "text/plain": [
       "<Figure size 576x288 with 0 Axes>"
      ]
     },
     "execution_count": 107,
     "metadata": {},
     "output_type": "execute_result"
    },
    {
     "data": {
      "text/plain": [
       "[<matplotlib.lines.Line2D at 0x1325f10aeb0>]"
      ]
     },
     "execution_count": 107,
     "metadata": {},
     "output_type": "execute_result"
    },
    {
     "data": {
      "text/plain": [
       "(0.09, 1.0)"
      ]
     },
     "execution_count": 107,
     "metadata": {},
     "output_type": "execute_result"
    },
    {
     "data": {
      "text/plain": [
       "([<matplotlib.axis.YTick at 0x13261489d60>,\n",
       "  <matplotlib.axis.YTick at 0x13239a26190>,\n",
       "  <matplotlib.axis.YTick at 0x13207157760>,\n",
       "  <matplotlib.axis.YTick at 0x1325f10aaf0>,\n",
       "  <matplotlib.axis.YTick at 0x1325f0fc340>,\n",
       "  <matplotlib.axis.YTick at 0x1325f0fc2e0>,\n",
       "  <matplotlib.axis.YTick at 0x1326154cfd0>,\n",
       "  <matplotlib.axis.YTick at 0x1326154c940>,\n",
       "  <matplotlib.axis.YTick at 0x1326154cd90>],\n",
       " [Text(0, 0, ''),\n",
       "  Text(0, 0, ''),\n",
       "  Text(0, 0, ''),\n",
       "  Text(0, 0, ''),\n",
       "  Text(0, 0, ''),\n",
       "  Text(0, 0, ''),\n",
       "  Text(0, 0, ''),\n",
       "  Text(0, 0, ''),\n",
       "  Text(0, 0, '')])"
      ]
     },
     "execution_count": 107,
     "metadata": {},
     "output_type": "execute_result"
    },
    {
     "data": {
      "text/plain": [
       "(0.9, 1094.0366369077378)"
      ]
     },
     "execution_count": 107,
     "metadata": {},
     "output_type": "execute_result"
    },
    {
     "data": {
      "text/plain": [
       "Text(0.5, 0, 'Number of PCA components')"
      ]
     },
     "execution_count": 107,
     "metadata": {},
     "output_type": "execute_result"
    },
    {
     "data": {
      "text/plain": [
       "Text(0, 0.5, 'Variance Ratio')"
      ]
     },
     "execution_count": 107,
     "metadata": {},
     "output_type": "execute_result"
    },
    {
     "data": {
      "image/png": "[encoded data removed]",
      "text/plain": [
       "<Figure size 576x288 with 1 Axes>"
      ]
     },
     "metadata": {
      "needs_background": "light"
     },
     "output_type": "display_data"
    }
   ],
   "source": [
    "#Plotting the variance ratio determined from the loop above\n",
    "figure(figsize(8,4))\n",
    "plot(n_components_array, nCompLen,'k.-')\n",
    "xscale(\"log\")\n",
    "ylim(9e-2,1,1)\n",
    "yticks(linspace(0.2,1.0,9))\n",
    "xlim(0.9)\n",
    "grid(which=\"both\")\n",
    "xlabel(\"Number of PCA components\", size =15)\n",
    "ylabel(\"Variance Ratio\", size =15)"
   ]
  },
  {
   "cell_type": "markdown",
   "id": "7dab07cd",
   "metadata": {},
   "source": [
    "The number of components necessary to account for at least 75% of the variance would be about 35 components, and for the 85% benchmark we would need approximately at least 70 components.  I will choose a value that covers about 90% as that value is 100 components."
   ]
  },
  {
   "cell_type": "markdown",
   "id": "6d0253f8",
   "metadata": {},
   "source": [
    "3: Model Creation"
   ]
  },
  {
   "cell_type": "code",
   "execution_count": 108,
   "id": "a504213e",
   "metadata": {},
   "outputs": [],
   "source": [
    "from sklearn.compose import ColumnTransformer\n",
    "from sklearn.datasets import fetch_openml\n",
    "from sklearn.impute import SimpleImputer\n",
    "from sklearn.model_selection import StratifiedKFold\n",
    "from sklearn.model_selection import cross_validate\n",
    "from sklearn.metrics import confusion_matrix, plot_confusion_matrix\n",
    "from sklearn.preprocessing import KBinsDiscretizer\n",
    "from sklearn.ensemble import RandomForestClassifier\n"
   ]
  },
  {
   "cell_type": "code",
   "execution_count": 109,
   "id": "93c569de",
   "metadata": {},
   "outputs": [],
   "source": [
    "#Need to import some more necessary libraries for k-fold and cross validation\n",
    "from sklearn.metrics import accuracy_score,confusion_matrix, classification_report\n",
    "from sklearn.model_selection import KFold, cross_val_score, cross_val_predict"
   ]
  },
  {
   "cell_type": "markdown",
   "id": "298dafba",
   "metadata": {},
   "source": [
    "Model: Random Forest"
   ]
  },
  {
   "cell_type": "code",
   "execution_count": 110,
   "id": "93ef8057",
   "metadata": {},
   "outputs": [
    {
     "data": {
      "text/plain": [
       "PCA(n_components=100)"
      ]
     },
     "execution_count": 110,
     "metadata": {},
     "output_type": "execute_result"
    },
    {
     "data": {
      "text/plain": [
       "RandomForestClassifier()"
      ]
     },
     "execution_count": 110,
     "metadata": {},
     "output_type": "execute_result"
    }
   ],
   "source": [
    "pca = PCA(n_components=100)\n",
    "pca.fit(xTrain)\n",
    "transXTrain = pca.transform(xTrain)\n",
    "transTest = pca.transform(TestDat)\n",
    "\n",
    "model = RandomForestClassifier()\n",
    "model.fit(transXTrain,yTrain)\n",
    "results = model.predict(transTest)\n"
   ]
  },
  {
   "cell_type": "code",
   "execution_count": 111,
   "id": "26bd9b41",
   "metadata": {},
   "outputs": [
    {
     "name": "stdout",
     "output_type": "stream",
     "text": [
      "             Random Forest            \n",
      "RF Accuracy is:  100.0\n"
     ]
    }
   ],
   "source": [
    "print('             Random Forest            ')\n",
    "print('RF Accuracy is: ', round(accuracy_score(yTrain, model.predict(transXTrain))*100,2))\n",
    "#Now to Kfold the data into 10 equal sections\n",
    "kfold = KFold(n_splits =8, shuffle = True, random_state =42)\n"
   ]
  },
  {
   "cell_type": "markdown",
   "id": "a4f67e1b",
   "metadata": {},
   "source": [
    "Seems as if our Random Forest model is overfitted to our training data."
   ]
  },
  {
   "cell_type": "markdown",
   "id": "8afad6ac",
   "metadata": {},
   "source": [
    "4: HyperParameter Tuning"
   ]
  },
  {
   "cell_type": "markdown",
   "id": "eae5b450",
   "metadata": {},
   "source": [
    "Hypertuning Random Forest Model"
   ]
  },
  {
   "cell_type": "code",
   "execution_count": 112,
   "id": "b3cfaed6",
   "metadata": {},
   "outputs": [
    {
     "name": "stdout",
     "output_type": "stream",
     "text": [
      "Fitting 4 folds for each of 630 candidates, totalling 2520 fits\n"
     ]
    },
    {
     "data": {
      "text/plain": [
       "GridSearchCV(cv=4, estimator=RandomForestClassifier(n_jobs=1, random_state=42),\n",
       "             n_jobs=-1,\n",
       "             param_grid={'max_depth': [1, 2, 5, 10, 20, 50],\n",
       "                         'max_features': [2, 3, 4],\n",
       "                         'min_samples_leaf': [5, 10, 20, 50, 100],\n",
       "                         'n_estimators': [1, 10, 20, 30, 50, 100, 200]},\n",
       "             scoring='accuracy', verbose=1)"
      ]
     },
     "execution_count": 112,
     "metadata": {},
     "output_type": "execute_result"
    },
    {
     "name": "stdout",
     "output_type": "stream",
     "text": [
      "0.9386428571428571\n"
     ]
    },
    {
     "data": {
      "text/plain": [
       "RandomForestClassifier(max_depth=20, max_features=4, min_samples_leaf=5,\n",
       "                       n_estimators=200, n_jobs=1, random_state=42)"
      ]
     },
     "execution_count": 112,
     "metadata": {},
     "output_type": "execute_result"
    }
   ],
   "source": [
    "#Generating our initial model to tune our hyperparameters\n",
    "model = RandomForestClassifier(random_state=42, n_jobs=1)\n",
    "\n",
    "#Number of trees in the forest\n",
    "n_estimators = [1,10,20,30,50,100,200]\n",
    "#Number of features to consider every split\n",
    "max_features = [2,3,4]\n",
    "#Maximum number of levels in the tree\n",
    "max_depth = [1,2,5,10,20,50]\n",
    "#Minimum number of samples per leaf in each tree\n",
    "min_samples_leaf=[5,10,20,50,100]\n",
    "\n",
    "\n",
    "paramGrid = {\n",
    "    'n_estimators': n_estimators,\n",
    "    'max_features': max_features,\n",
    "    'max_depth':max_depth,\n",
    "    'min_samples_leaf':min_samples_leaf\n",
    "}\n",
    "\n",
    "gridsearchRF = GridSearchCV(estimator=model, param_grid =paramGrid, cv=4, n_jobs=-1, verbose=1, scoring = \"accuracy\")\n",
    "#finding the best score with the best parameters\n",
    "gridsearchRF.fit(transXTrain, yTrain)\n",
    "print(gridsearchRF.best_score_)\n",
    "#best estimation\n",
    "rfBest = gridsearchRF.best_estimator_\n",
    "rfBest"
   ]
  },
  {
   "cell_type": "code",
   "execution_count": 113,
   "id": "8b9285b4",
   "metadata": {},
   "outputs": [
    {
     "data": {
      "text/plain": [
       "RandomForestClassifier(max_depth=50, max_features=4, min_samples_leaf=5,\n",
       "                       n_estimators=200, n_jobs=1, random_state=42)"
      ]
     },
     "execution_count": 113,
     "metadata": {},
     "output_type": "execute_result"
    }
   ],
   "source": [
    "#Applying our best parameters to our delivered model\n",
    "rfModel = RandomForestClassifier(max_depth = 50, max_features =4, min_samples_leaf=5, n_estimators=200, n_jobs=1,random_state=42)\n",
    "rfModel.fit(transXTrain,yTrain)\n"
   ]
  },
  {
   "cell_type": "markdown",
   "id": "c5ef11a4",
   "metadata": {},
   "source": [
    "5: Test Data and Submission"
   ]
  },
  {
   "cell_type": "code",
   "execution_count": 114,
   "id": "8c173bb2",
   "metadata": {},
   "outputs": [],
   "source": [
    "result = rfModel.predict(transTest)\n",
    "result = pd.Series(result,name='Label')"
   ]
  },
  {
   "cell_type": "code",
   "execution_count": 115,
   "id": "3320fb84",
   "metadata": {},
   "outputs": [],
   "source": [
    "submission = pd.concat([pd.Series(range(1,28001),name=\"ImageId\"),result],axis=1)"
   ]
  },
  {
   "cell_type": "code",
   "execution_count": 116,
   "id": "c0bebf86",
   "metadata": {},
   "outputs": [],
   "source": [
    "submission.to_csv('Submission.csv', index = False)"
   ]
  },
  {
   "cell_type": "markdown",
   "id": "56f508f7",
   "metadata": {},
   "source": [
    "6: K-Mean Clustering"
   ]
  },
  {
   "cell_type": "code",
   "execution_count": 117,
   "id": "b198cbaf",
   "metadata": {},
   "outputs": [],
   "source": [
    "#Importing the necessary libraries\n",
    "from sklearn.cluster import KMeans\n",
    "from sklearn.datasets import make_blobs\n",
    "from sklearn.cluster import MiniBatchKMeans"
   ]
  },
  {
   "cell_type": "code",
   "execution_count": 118,
   "id": "3af05d9e",
   "metadata": {},
   "outputs": [],
   "source": [
    "#Converting each image to a 1D array\n",
    "xTrainNP = xTrain.to_numpy()\n",
    "yTrainNP = yTrain.to_numpy()"
   ]
  },
  {
   "cell_type": "code",
   "execution_count": 119,
   "id": "2c3083ab",
   "metadata": {},
   "outputs": [
    {
     "name": "stdout",
     "output_type": "stream",
     "text": [
      "(42000, 784)\n",
      "(42000, 1)\n"
     ]
    }
   ],
   "source": [
    "#Converting the image to a 1d Array\n",
    "x_train = xTrainNP.reshape(len(xTrainNP),-1)\n",
    "y_train = yTrainNP.reshape(len(yTrainNP),-1)\n",
    "print(x_train.shape)\n",
    "print(y_train.shape)"
   ]
  },
  {
   "cell_type": "code",
   "execution_count": 120,
   "id": "49e68ec1",
   "metadata": {},
   "outputs": [
    {
     "name": "stdout",
     "output_type": "stream",
     "text": [
      "10\n"
     ]
    }
   ],
   "source": [
    "#applying K Means Clustering\n",
    "\n",
    "n_digits = len(np.unique(yTrain))\n",
    "print(n_digits)"
   ]
  },
  {
   "cell_type": "code",
   "execution_count": 121,
   "id": "4f6f39f5",
   "metadata": {},
   "outputs": [
    {
     "name": "stderr",
     "output_type": "stream",
     "text": [
      "C:\\Users\\PAIN IN MY ASS\\anaconda3\\lib\\site-packages\\sklearn\\cluster\\_kmeans.py:887: UserWarning: MiniBatchKMeans is known to have a memory leak on Windows with MKL, when there are less chunks than available threads. You can prevent it by setting batch_size >= 3072 or by setting the environment variable OMP_NUM_THREADS=1\n",
      "  warnings.warn(\n"
     ]
    },
    {
     "data": {
      "text/plain": [
       "MiniBatchKMeans(n_clusters=10)"
      ]
     },
     "execution_count": 121,
     "metadata": {},
     "output_type": "execute_result"
    }
   ],
   "source": [
    "kmeans = MiniBatchKMeans(n_clusters = n_digits)\n",
    "kmeans.fit(x_train)"
   ]
  },
  {
   "cell_type": "code",
   "execution_count": 122,
   "id": "c797943b",
   "metadata": {},
   "outputs": [
    {
     "data": {
      "text/plain": [
       "array([3, 8, 4, ..., 6, 0, 6])"
      ]
     },
     "execution_count": 122,
     "metadata": {},
     "output_type": "execute_result"
    }
   ],
   "source": [
    "#checking labels to confirm images are labeled with their corresponding groups\n",
    "kmeans.labels_\n"
   ]
  },
  {
   "cell_type": "code",
   "execution_count": 123,
   "id": "3a5d77ad",
   "metadata": {},
   "outputs": [],
   "source": [
    "#Need to convert to make sure labels correspond with the correct groupings\n",
    "#Will define a function to perform this action\n",
    "def clusterLabels(kmeans, actual_labels):\n",
    "    infer_labels={}\n",
    "    #Loop through our generated clusters\n",
    "    for i in range(kmeans.n_clusters):\n",
    "        #index our clusters\n",
    "        labels=[]\n",
    "        index = np.where(kmeans.labels_ == i)\n",
    "        \n",
    "        #append our actual labels for each image in cluster\n",
    "        labels.append(actual_labels[index])\n",
    "        \n",
    "        #Find most common label\n",
    "        if len(labels[0]) ==1:\n",
    "            counts = np.bincount(labels[0])\n",
    "        else:\n",
    "            counts = np.bincount(np.squeeze(labels))\n",
    "            \n",
    "        #Assign cluster value to our inferred labels dict\n",
    "        if np.argmax(counts) in infer_labels:\n",
    "            infer_labels[np.argmax(counts)].append(i)\n",
    "        else:\n",
    "            infer_labels[np.argmax(counts)] = [i]\n",
    "            \n",
    "    return infer_labels"
   ]
  },
  {
   "cell_type": "code",
   "execution_count": 124,
   "id": "12c7f9e8",
   "metadata": {},
   "outputs": [],
   "source": [
    "def dataLabels(x_labels, clusterLabels):\n",
    "    predLabels = np.zeros(len(x_labels)).astype(np.uint8)\n",
    "    \n",
    "    for i, cluster in enumerate(x_labels):\n",
    "        for key, value in clusterLabels.items():\n",
    "            if cluster in value:\n",
    "                predLabels[i]=key\n",
    "    return predLabels"
   ]
  },
  {
   "cell_type": "code",
   "execution_count": 125,
   "id": "7049d6bd",
   "metadata": {},
   "outputs": [
    {
     "name": "stdout",
     "output_type": "stream",
     "text": [
      "[1 0 1 4 0 9 9 3 3 3 8 7 1 3 3 1 8 0 7 6]\n",
      "0     1\n",
      "1     0\n",
      "2     1\n",
      "3     4\n",
      "4     0\n",
      "5     0\n",
      "6     7\n",
      "7     3\n",
      "8     5\n",
      "9     3\n",
      "10    8\n",
      "11    9\n",
      "12    1\n",
      "13    3\n",
      "14    3\n",
      "15    1\n",
      "16    2\n",
      "17    0\n",
      "18    7\n",
      "19    5\n",
      "Name: label, dtype: int64\n"
     ]
    }
   ],
   "source": [
    "#applying our defined functions above\n",
    "ClusterLabels = clusterLabels(kmeans,y_train)\n",
    "xClusters = kmeans.predict(x_train)\n",
    "#Comparing our inferred labels to the actual valued labels\n",
    "PredLabels = dataLabels(xClusters, ClusterLabels)\n",
    "print(PredLabels[:20])\n",
    "print(yTrain[:20])"
   ]
  },
  {
   "cell_type": "markdown",
   "id": "b0ba4efc",
   "metadata": {},
   "source": [
    "Although Inverted, the y_train values are inverted, the columns generally match the inferred labels for each grouping in out KMeans groupings.  We can now start evaluating our KMeans clustering."
   ]
  },
  {
   "cell_type": "markdown",
   "id": "bba2439a",
   "metadata": {},
   "source": [
    "7: Evaluating KMeans Clustering"
   ]
  },
  {
   "cell_type": "code",
   "execution_count": 126,
   "id": "5db6730c",
   "metadata": {},
   "outputs": [],
   "source": [
    "#Importing the necessary libraries\n",
    "from sklearn.metrics import homogeneity_score\n",
    "#Creating a function to generate Inertia and Homogeneity Scores\n",
    "def metrics(estimator, data, labels):\n",
    "    print('Number of Clusters: {}'.format(estimator.n_clusters))\n",
    "    #Inertia Score\n",
    "    inertia = estimator.inertia_\n",
    "    print(\"Inertia: {}\".format(inertia))\n",
    "    #Homogeniety Score\n",
    "    homogeneity = homogeneity_score(labels, estimator.labels_)\n",
    "    print(\"Homogeneity Score: {}\".format(homogeneity))\n",
    "    \n",
    "    return inertia, homogeneity\n",
    "    \n",
    "    \n",
    "    "
   ]
  },
  {
   "cell_type": "code",
   "execution_count": 127,
   "id": "d094b4ab",
   "metadata": {},
   "outputs": [
    {
     "name": "stderr",
     "output_type": "stream",
     "text": [
      "C:\\Users\\PAIN IN MY ASS\\anaconda3\\lib\\site-packages\\sklearn\\cluster\\_kmeans.py:887: UserWarning: MiniBatchKMeans is known to have a memory leak on Windows with MKL, when there are less chunks than available threads. You can prevent it by setting batch_size >= 3072 or by setting the environment variable OMP_NUM_THREADS=1\n",
      "  warnings.warn(\n"
     ]
    },
    {
     "data": {
      "text/plain": [
       "MiniBatchKMeans(n_clusters=10)"
      ]
     },
     "execution_count": 127,
     "metadata": {},
     "output_type": "execute_result"
    },
    {
     "name": "stdout",
     "output_type": "stream",
     "text": [
      "Number of Clusters: 10\n",
      "Inertia: 109699545949.93161\n",
      "Homogeneity Score: 0.4349572183295776\n",
      "Accuracy: 0.538547619047619\n",
      "\n"
     ]
    },
    {
     "name": "stderr",
     "output_type": "stream",
     "text": [
      "C:\\Users\\PAIN IN MY ASS\\anaconda3\\lib\\site-packages\\sklearn\\cluster\\_kmeans.py:887: UserWarning: MiniBatchKMeans is known to have a memory leak on Windows with MKL, when there are less chunks than available threads. You can prevent it by setting batch_size >= 3072 or by setting the environment variable OMP_NUM_THREADS=1\n",
      "  warnings.warn(\n"
     ]
    },
    {
     "data": {
      "text/plain": [
       "MiniBatchKMeans(n_clusters=16)"
      ]
     },
     "execution_count": 127,
     "metadata": {},
     "output_type": "execute_result"
    },
    {
     "name": "stdout",
     "output_type": "stream",
     "text": [
      "Number of Clusters: 16\n",
      "Inertia: 101341683817.12744\n",
      "Homogeneity Score: 0.5453246456945526\n",
      "Accuracy: 0.6293571428571428\n",
      "\n"
     ]
    },
    {
     "name": "stderr",
     "output_type": "stream",
     "text": [
      "C:\\Users\\PAIN IN MY ASS\\anaconda3\\lib\\site-packages\\sklearn\\cluster\\_kmeans.py:887: UserWarning: MiniBatchKMeans is known to have a memory leak on Windows with MKL, when there are less chunks than available threads. You can prevent it by setting batch_size >= 3072 or by setting the environment variable OMP_NUM_THREADS=1\n",
      "  warnings.warn(\n"
     ]
    },
    {
     "data": {
      "text/plain": [
       "MiniBatchKMeans(n_clusters=36)"
      ]
     },
     "execution_count": 127,
     "metadata": {},
     "output_type": "execute_result"
    },
    {
     "name": "stdout",
     "output_type": "stream",
     "text": [
      "Number of Clusters: 36\n",
      "Inertia: 94306348237.0105\n",
      "Homogeneity Score: 0.6352019665644852\n",
      "Accuracy: 0.7324285714285714\n",
      "\n"
     ]
    },
    {
     "name": "stderr",
     "output_type": "stream",
     "text": [
      "C:\\Users\\PAIN IN MY ASS\\anaconda3\\lib\\site-packages\\sklearn\\cluster\\_kmeans.py:887: UserWarning: MiniBatchKMeans is known to have a memory leak on Windows with MKL, when there are less chunks than available threads. You can prevent it by setting batch_size >= 3072 or by setting the environment variable OMP_NUM_THREADS=1\n",
      "  warnings.warn(\n"
     ]
    },
    {
     "data": {
      "text/plain": [
       "MiniBatchKMeans(n_clusters=64)"
      ]
     },
     "execution_count": 127,
     "metadata": {},
     "output_type": "execute_result"
    },
    {
     "name": "stdout",
     "output_type": "stream",
     "text": [
      "Number of Clusters: 64\n",
      "Inertia: 82512803494.59268\n",
      "Homogeneity Score: 0.7502947885226294\n",
      "Accuracy: 0.8305\n",
      "\n"
     ]
    },
    {
     "name": "stderr",
     "output_type": "stream",
     "text": [
      "C:\\Users\\PAIN IN MY ASS\\anaconda3\\lib\\site-packages\\sklearn\\cluster\\_kmeans.py:887: UserWarning: MiniBatchKMeans is known to have a memory leak on Windows with MKL, when there are less chunks than available threads. You can prevent it by setting batch_size >= 3072 or by setting the environment variable OMP_NUM_THREADS=1\n",
      "  warnings.warn(\n"
     ]
    },
    {
     "data": {
      "text/plain": [
       "MiniBatchKMeans(n_clusters=144)"
      ]
     },
     "execution_count": 127,
     "metadata": {},
     "output_type": "execute_result"
    },
    {
     "name": "stdout",
     "output_type": "stream",
     "text": [
      "Number of Clusters: 144\n",
      "Inertia: 74080555534.16933\n",
      "Homogeneity Score: 0.8027511470858176\n",
      "Accuracy: 0.864452380952381\n",
      "\n"
     ]
    },
    {
     "name": "stderr",
     "output_type": "stream",
     "text": [
      "C:\\Users\\PAIN IN MY ASS\\anaconda3\\lib\\site-packages\\sklearn\\cluster\\_kmeans.py:887: UserWarning: MiniBatchKMeans is known to have a memory leak on Windows with MKL, when there are less chunks than available threads. You can prevent it by setting batch_size >= 3072 or by setting the environment variable OMP_NUM_THREADS=1\n",
      "  warnings.warn(\n"
     ]
    },
    {
     "data": {
      "text/plain": [
       "MiniBatchKMeans(n_clusters=256)"
      ]
     },
     "execution_count": 127,
     "metadata": {},
     "output_type": "execute_result"
    },
    {
     "name": "stdout",
     "output_type": "stream",
     "text": [
      "Number of Clusters: 256\n",
      "Inertia: 69039667667.06644\n",
      "Homogeneity Score: 0.8349820973446904\n",
      "Accuracy: 0.8866428571428572\n",
      "\n"
     ]
    }
   ],
   "source": [
    "#Importing Accuracy Score\n",
    "from sklearn.metrics import accuracy_score\n",
    "\n",
    "clusters = [10,16,36,64,144,256]\n",
    "inertia_list = []\n",
    "homogeneity_list = []\n",
    "accuracy_list =[]\n",
    "\n",
    "#Creating a Loop to apply our metrics to our data\n",
    "\n",
    "for n_clusters in clusters:\n",
    "    estimator = MiniBatchKMeans(n_clusters=n_clusters)\n",
    "    estimator.fit(x_train)\n",
    "    \n",
    "    #Applying Inertia Metrics\n",
    "    inertia,homogeneity = metrics(estimator, x_train, yTrain)\n",
    "    inertia_list.append(inertia)\n",
    "    homogeneity_list.append(homogeneity)\n",
    "    \n",
    "    #Determine our Predicted Labels\n",
    "    cluster_labels = clusterLabels(estimator, y_train)\n",
    "    prediction = dataLabels(estimator.labels_, cluster_labels)\n",
    "    \n",
    "    acc = accuracy_score(y_train, prediction)\n",
    "    accuracy_list.append(acc)\n",
    "    print(\"Accuracy: {}\\n\".format(acc))"
   ]
  },
  {
   "cell_type": "markdown",
   "id": "07766700",
   "metadata": {},
   "source": [
    "Plotting our Inertia, Homogeneity, and Accuracy Scores"
   ]
  },
  {
   "cell_type": "code",
   "execution_count": 128,
   "id": "b9f55935",
   "metadata": {},
   "outputs": [
    {
     "data": {
      "text/plain": [
       "[<matplotlib.lines.Line2D at 0x13205bf0700>]"
      ]
     },
     "execution_count": 128,
     "metadata": {},
     "output_type": "execute_result"
    },
    {
     "data": {
      "text/plain": [
       "[<matplotlib.lines.Line2D at 0x132060d2f40>]"
      ]
     },
     "execution_count": 128,
     "metadata": {},
     "output_type": "execute_result"
    },
    {
     "data": {
      "text/plain": [
       "[<matplotlib.lines.Line2D at 0x132060d2220>]"
      ]
     },
     "execution_count": 128,
     "metadata": {},
     "output_type": "execute_result"
    },
    {
     "data": {
      "text/plain": [
       "<matplotlib.legend.Legend at 0x1320510b040>"
      ]
     },
     "execution_count": 128,
     "metadata": {},
     "output_type": "execute_result"
    },
    {
     "data": {
      "text/plain": [
       "<matplotlib.legend.Legend at 0x13261b7d790>"
      ]
     },
     "execution_count": 128,
     "metadata": {},
     "output_type": "execute_result"
    },
    {
     "data": {
      "text/plain": [
       "Text(0.5, 1.0, 'Inertia Value of each Cluster')"
      ]
     },
     "execution_count": 128,
     "metadata": {},
     "output_type": "execute_result"
    },
    {
     "data": {
      "text/plain": [
       "Text(0.5, 1.0, 'Homogeneity and Accuracy Scores of each Cluster')"
      ]
     },
     "execution_count": 128,
     "metadata": {},
     "output_type": "execute_result"
    },
    {
     "data": {
      "image/png": "[encoded data removed]",
      "text/plain": [
       "<Figure size 1152x720 with 2 Axes>"
      ]
     },
     "metadata": {
      "needs_background": "light"
     },
     "output_type": "display_data"
    }
   ],
   "source": [
    "fig, ax = plt.subplots(1,2, figsize=(16,10))\n",
    "ax[0].plot(clusters, inertia_list, label='Inertia', marker='o')\n",
    "ax[1].plot(clusters, homogeneity_list, label='Homogeneity', marker='o')\n",
    "ax[1].plot(clusters, accuracy_list, label ='Accuracy', marker='^')\n",
    "\n",
    "ax[0].legend(loc='best')\n",
    "ax[1].legend(loc='best')\n",
    "\n",
    "ax[0].grid('on')\n",
    "ax[1].grid('on')\n",
    "\n",
    "ax[0].set_title(\"Inertia Value of each Cluster\")\n",
    "ax[1].set_title(\"Homogeneity and Accuracy Scores of each Cluster\")\n",
    "plt.show()"
   ]
  },
  {
   "cell_type": "markdown",
   "id": "40dad652",
   "metadata": {},
   "source": [
    "We can see that our accuracy and Homogeneity increased as our k values increased.  We have the inverse relationship with our Inertia value."
   ]
  },
  {
   "cell_type": "markdown",
   "id": "a0ab3971",
   "metadata": {},
   "source": [
    "8: Comparing K Means Clustering to our Random Forest Model"
   ]
  },
  {
   "cell_type": "code",
   "execution_count": 129,
   "id": "0543e00d",
   "metadata": {},
   "outputs": [
    {
     "name": "stdout",
     "output_type": "stream",
     "text": [
      "Random Forest Model Accuracy Score:  0.9386428571428571\n",
      "Best K Means Clustering Accuracy Score:  0.8866428571428572\n"
     ]
    }
   ],
   "source": [
    "print(\"Random Forest Model Accuracy Score: \", gridsearchRF.best_score_)\n",
    "print(\"Best K Means Clustering Accuracy Score: \", max(accuracy_list))"
   ]
  },
  {
   "cell_type": "markdown",
   "id": "aa246fdc",
   "metadata": {},
   "source": [
    "We can see that our Random Forest Model had the best accuracy score for our training data.  This is a good thing, however, still can be indicative of an overfit model. Both were close in accuracy."
   ]
  }
 ],
 "metadata": {
  "kernelspec": {
   "display_name": "Python 3 (ipykernel)",
   "language": "python",
   "name": "python3"
  },
  "language_info": {
   "codemirror_mode": {
    "name": "ipython",
    "version": 3
   },
   "file_extension": ".py",
   "mimetype": "text/x-python",
   "name": "python",
   "nbconvert_exporter": "python",
   "pygments_lexer": "ipython3",
   "version": "3.9.12"
  }
 },
 "nbformat": 4,
 "nbformat_minor": 5
}
